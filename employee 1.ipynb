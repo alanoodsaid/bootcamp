{
 "cells": [
  {
   "cell_type": "code",
   "execution_count": 1,
   "id": "ed0e58e5",
   "metadata": {},
   "outputs": [
    {
     "name": "stdout",
     "output_type": "stream",
     "text": [
      "Employee ID: E7876\n",
      "Employee Name: ADAMS\n",
      "Employee Salary: 50000\n",
      "Employee Department: ACCOUNTING\n",
      "Calculated Salary: 55000.0\n",
      "Employee ID: E7876\n",
      "Employee Name: ADAMS\n",
      "Employee Salary: 50000\n",
      "Employee Department: HR\n"
     ]
    }
   ],
   "source": [
    "class Employee:\n",
    "    def __init__(self, emp_name, emp_id, emp_salary, emp_department):\n",
    "        self.empname = emp_name\n",
    "        self.empid = emp_id\n",
    "        self.empsalary = emp_salary\n",
    "        self.empdepartment = emp_department\n",
    "\n",
    "    def calculate_emp_salary(self, hours_worked):\n",
    "        if hours_worked > 50:\n",
    "            overtime = hours_worked - 50\n",
    "            overtime_amount = overtime * (self.empsalary / 50)\n",
    "            total_salary = self.empsalary + overtime_amount\n",
    "        else:\n",
    "            total_salary = self.empsalary\n",
    "        return total_salary\n",
    "\n",
    "    def emp_assign_department(self, new_department):\n",
    "        self.empdepartment = new_department\n",
    "\n",
    "    def employee_details(self):\n",
    "        print(\"Employee ID:\", self.empid)\n",
    "        print(\"Employee Name:\", self.empname)\n",
    "        print(\"Employee Salary:\", self.empsalary)\n",
    "        print(\"Employee Department:\", self.empdepartment)\n",
    "\n",
    "# Sample Employee Data\n",
    "def main():\n",
    "    emp1 = Employee(\"ADAMS\", \"E7876\", 50000, \"ACCOUNTING\")\n",
    "    emp2 = Employee(\"JONES\", \"E7499\", 45000, \"RESEARCH\")\n",
    "    emp3 = Employee(\"MARTIN\", \"E7900\", 50000, \"SALES\")\n",
    "    emp4 = Employee(\"SMITH\", \"E7698\", 55000, \"OPERATIONS\")\n",
    "    \n",
    "    emp1.employee_details()  \n",
    "    print(\"Calculated Salary:\", emp1.calculate_emp_salary(55))\n",
    "    emp1.emp_assign_department(\"HR\")  \n",
    "    emp1.employee_details()  \n",
    "\n",
    "main()\n"
   ]
  },
  {
   "cell_type": "code",
   "execution_count": null,
   "id": "381bab97",
   "metadata": {},
   "outputs": [],
   "source": []
  }
 ],
 "metadata": {
  "kernelspec": {
   "display_name": "Python 3 (ipykernel)",
   "language": "python",
   "name": "python3"
  },
  "language_info": {
   "codemirror_mode": {
    "name": "ipython",
    "version": 3
   },
   "file_extension": ".py",
   "mimetype": "text/x-python",
   "name": "python",
   "nbconvert_exporter": "python",
   "pygments_lexer": "ipython3",
   "version": "3.9.13"
  }
 },
 "nbformat": 4,
 "nbformat_minor": 5
}
